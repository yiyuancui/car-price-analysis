{
 "cells": [
  {
   "cell_type": "markdown",
   "id": "6779d462",
   "metadata": {},
   "source": [
    "# plot relationship between some specific car versus every year, and do a prediction on the next 3 year's price"
   ]
  },
  {
   "cell_type": "code",
   "execution_count": 123,
   "id": "c514b120",
   "metadata": {},
   "outputs": [],
   "source": [
    "import pandas as pd\n",
    "import numpy as np"
   ]
  },
  {
   "cell_type": "code",
   "execution_count": 125,
   "id": "5737c17d",
   "metadata": {},
   "outputs": [
    {
     "data": {
      "text/plain": [
       "0         5.0\n",
       "1         5.0\n",
       "2         4.0\n",
       "3         4.0\n",
       "4         4.0\n",
       "         ... \n",
       "558832    4.0\n",
       "558833    5.0\n",
       "558834    5.0\n",
       "558835    4.0\n",
       "558836    3.0\n",
       "Name: condition, Length: 558837, dtype: float64"
      ]
     },
     "execution_count": 125,
     "metadata": {},
     "output_type": "execute_result"
    }
   ],
   "source": [
    "df = pd.read_csv('clean_car_price.csv', low_memory = False)\n",
    "df.head()\n",
    "# change car year - 1 to get actual car year\n",
    "df.loc[:, \"year\"] = df[\"year\"].apply(lambda x: x - 1)\n",
    "df['condition'] = df['condition'].fillna(0)\n",
    "df['condition'] = pd.to_numeric(df['condition'])\n",
    "df['condition'].round()"
   ]
  },
  {
   "cell_type": "code",
   "execution_count": 126,
   "id": "39f9dba3",
   "metadata": {},
   "outputs": [
    {
     "data": {
      "text/html": [
       "<div>\n",
       "<style scoped>\n",
       "    .dataframe tbody tr th:only-of-type {\n",
       "        vertical-align: middle;\n",
       "    }\n",
       "\n",
       "    .dataframe tbody tr th {\n",
       "        vertical-align: top;\n",
       "    }\n",
       "\n",
       "    .dataframe thead th {\n",
       "        text-align: right;\n",
       "    }\n",
       "</style>\n",
       "<table border=\"1\" class=\"dataframe\">\n",
       "  <thead>\n",
       "    <tr style=\"text-align: right;\">\n",
       "      <th></th>\n",
       "      <th>Unnamed: 0</th>\n",
       "      <th>year</th>\n",
       "      <th>make</th>\n",
       "      <th>model</th>\n",
       "      <th>trim</th>\n",
       "      <th>body</th>\n",
       "      <th>transmission</th>\n",
       "      <th>state</th>\n",
       "      <th>condition</th>\n",
       "      <th>odometer</th>\n",
       "      <th>color</th>\n",
       "      <th>interior</th>\n",
       "      <th>sellingprice</th>\n",
       "      <th>saleyear</th>\n",
       "    </tr>\n",
       "  </thead>\n",
       "  <tbody>\n",
       "    <tr>\n",
       "      <th>0</th>\n",
       "      <td>0</td>\n",
       "      <td>2014</td>\n",
       "      <td>Kia</td>\n",
       "      <td>Sorento</td>\n",
       "      <td>LX</td>\n",
       "      <td>SUV</td>\n",
       "      <td>automatic</td>\n",
       "      <td>ca</td>\n",
       "      <td>5.0</td>\n",
       "      <td>16639.0</td>\n",
       "      <td>white</td>\n",
       "      <td>black</td>\n",
       "      <td>21500</td>\n",
       "      <td>2014</td>\n",
       "    </tr>\n",
       "    <tr>\n",
       "      <th>1</th>\n",
       "      <td>1</td>\n",
       "      <td>2014</td>\n",
       "      <td>Kia</td>\n",
       "      <td>Sorento</td>\n",
       "      <td>LX</td>\n",
       "      <td>SUV</td>\n",
       "      <td>automatic</td>\n",
       "      <td>ca</td>\n",
       "      <td>5.0</td>\n",
       "      <td>9393.0</td>\n",
       "      <td>white</td>\n",
       "      <td>beige</td>\n",
       "      <td>21500</td>\n",
       "      <td>2014</td>\n",
       "    </tr>\n",
       "    <tr>\n",
       "      <th>2</th>\n",
       "      <td>2</td>\n",
       "      <td>2013</td>\n",
       "      <td>BMW</td>\n",
       "      <td>3 Series</td>\n",
       "      <td>328i SULEV</td>\n",
       "      <td>Sedan</td>\n",
       "      <td>automatic</td>\n",
       "      <td>ca</td>\n",
       "      <td>4.5</td>\n",
       "      <td>1331.0</td>\n",
       "      <td>gray</td>\n",
       "      <td>black</td>\n",
       "      <td>30000</td>\n",
       "      <td>2015</td>\n",
       "    </tr>\n",
       "    <tr>\n",
       "      <th>3</th>\n",
       "      <td>3</td>\n",
       "      <td>2014</td>\n",
       "      <td>Volvo</td>\n",
       "      <td>S60</td>\n",
       "      <td>T5</td>\n",
       "      <td>Sedan</td>\n",
       "      <td>automatic</td>\n",
       "      <td>ca</td>\n",
       "      <td>4.1</td>\n",
       "      <td>14282.0</td>\n",
       "      <td>white</td>\n",
       "      <td>black</td>\n",
       "      <td>27750</td>\n",
       "      <td>2015</td>\n",
       "    </tr>\n",
       "    <tr>\n",
       "      <th>4</th>\n",
       "      <td>4</td>\n",
       "      <td>2013</td>\n",
       "      <td>BMW</td>\n",
       "      <td>6 Series Gran Coupe</td>\n",
       "      <td>650i</td>\n",
       "      <td>Sedan</td>\n",
       "      <td>automatic</td>\n",
       "      <td>ca</td>\n",
       "      <td>4.3</td>\n",
       "      <td>2641.0</td>\n",
       "      <td>gray</td>\n",
       "      <td>black</td>\n",
       "      <td>67000</td>\n",
       "      <td>2014</td>\n",
       "    </tr>\n",
       "  </tbody>\n",
       "</table>\n",
       "</div>"
      ],
      "text/plain": [
       "   Unnamed: 0  year   make                model        trim   body  \\\n",
       "0           0  2014    Kia              Sorento          LX    SUV   \n",
       "1           1  2014    Kia              Sorento          LX    SUV   \n",
       "2           2  2013    BMW             3 Series  328i SULEV  Sedan   \n",
       "3           3  2014  Volvo                  S60          T5  Sedan   \n",
       "4           4  2013    BMW  6 Series Gran Coupe        650i  Sedan   \n",
       "\n",
       "  transmission state  condition  odometer  color interior  sellingprice  \\\n",
       "0    automatic    ca        5.0   16639.0  white    black         21500   \n",
       "1    automatic    ca        5.0    9393.0  white    beige         21500   \n",
       "2    automatic    ca        4.5    1331.0   gray    black         30000   \n",
       "3    automatic    ca        4.1   14282.0  white    black         27750   \n",
       "4    automatic    ca        4.3    2641.0   gray    black         67000   \n",
       "\n",
       "   saleyear  \n",
       "0      2014  \n",
       "1      2014  \n",
       "2      2015  \n",
       "3      2015  \n",
       "4      2014  "
      ]
     },
     "execution_count": 126,
     "metadata": {},
     "output_type": "execute_result"
    }
   ],
   "source": [
    "df.head()"
   ]
  },
  {
   "cell_type": "code",
   "execution_count": 83,
   "id": "bc8bd3cc",
   "metadata": {},
   "outputs": [],
   "source": [
    "model = 'Sorento'\n",
    "model_df = df.loc[df['model'] == model]\n",
    "year_model_df = model_df.loc[model_df['year'] == 2010]\n",
    "lx_df = year_model_df.loc[year_model_df['trim'] == 'LX']"
   ]
  },
  {
   "cell_type": "code",
   "execution_count": 84,
   "id": "8afd57a6",
   "metadata": {},
   "outputs": [
    {
     "data": {
      "text/plain": [
       "2014"
      ]
     },
     "execution_count": 84,
     "metadata": {},
     "output_type": "execute_result"
    }
   ],
   "source": [
    "lx_df['saleyear'].min()\n",
    "    "
   ]
  },
  {
   "cell_type": "code",
   "execution_count": 85,
   "id": "7fccd33a",
   "metadata": {},
   "outputs": [],
   "source": [
    "#plot different year of a car sell price in 2014 and 2015"
   ]
  },
  {
   "cell_type": "code",
   "execution_count": 86,
   "id": "91ef7780",
   "metadata": {},
   "outputs": [],
   "source": [
    "temp_2010 = model_df.loc[model_df['year'] == 2010]\n",
    "lx_df_2010 = year_model_df.loc[year_model_df['trim'] == 'LX']\n",
    "temp_2011 = model_df.loc[model_df['year'] == 2011]\n",
    "lx_df_2011 = year_model_df.loc[year_model_df['trim'] == 'LX']\n",
    "temp_2012 = model_df.loc[model_df['year'] == 2012]\n",
    "lx_df_2012 = year_model_df.loc[year_model_df['trim'] == 'LX']\n",
    "temp_2013 = model_df.loc[model_df['year'] == 2013]\n",
    "lx_df_2013 = year_model_df.loc[year_model_df['trim'] == 'LX']\n",
    "temp_2014 = model_df.loc[model_df['year'] == 2014]\n",
    "lx_df_2014 = year_model_df.loc[year_model_df['trim'] == 'LX']\n"
   ]
  },
  {
   "cell_type": "code",
   "execution_count": 127,
   "id": "bec323ca",
   "metadata": {},
   "outputs": [
    {
     "data": {
      "text/plain": [
       "10178     4.0\n",
       "10182     2.0\n",
       "10225     4.0\n",
       "10254     0.0\n",
       "10255     4.0\n",
       "         ... \n",
       "546145    4.0\n",
       "546147    3.0\n",
       "546156    4.0\n",
       "548228    4.0\n",
       "548230    4.0\n",
       "Name: condition, Length: 178, dtype: float64"
      ]
     },
     "execution_count": 127,
     "metadata": {},
     "output_type": "execute_result"
    }
   ],
   "source": [
    "\n",
    "lx_df_2014['condition'].round()\n"
   ]
  },
  {
   "cell_type": "code",
   "execution_count": 92,
   "id": "6b5804a4",
   "metadata": {},
   "outputs": [],
   "source": [
    "import matplotlib.pyplot as plt"
   ]
  },
  {
   "cell_type": "code",
   "execution_count": 93,
   "id": "b622ed1e",
   "metadata": {},
   "outputs": [
    {
     "data": {
      "image/png": "[encoded data removed]",
      "text/plain": [
       "<Figure size 432x288 with 2 Axes>"
      ]
     },
     "metadata": {
      "needs_background": "light"
     },
     "output_type": "display_data"
    }
   ],
   "source": [
    "\n",
    "fig, ax = plt.subplots()\n",
    "ay = ax.twiny()\n",
    "\n",
    "ax.scatter(df['odometer'], df['sellingprice'])\n",
    "ay.scatter(df['condition'], df['sellingprice'], color='r')\n",
    "plt.show()"
   ]
  },
  {
   "cell_type": "code",
   "execution_count": 94,
   "id": "54511e56",
   "metadata": {},
   "outputs": [
    {
     "data": {
      "text/plain": [
       "<AxesSubplot:xlabel='sellingprice', ylabel='odometer'>"
      ]
     },
     "execution_count": 94,
     "metadata": {},
     "output_type": "execute_result"
    },
    {
     "data": {
      "image/png": "[encoded data removed]",
      "text/plain": [
       "<Figure size 432x288 with 1 Axes>"
      ]
     },
     "metadata": {
      "needs_background": "light"
     },
     "output_type": "display_data"
    }
   ],
   "source": [
    "lx_df_2010.plot.scatter(x=\"sellingprice\", y=\"odometer\", alpha=0.5)"
   ]
  },
  {
   "cell_type": "code",
   "execution_count": 95,
   "id": "0e02e8f7",
   "metadata": {},
   "outputs": [
    {
     "data": {
      "text/plain": [
       "<AxesSubplot:xlabel='condition', ylabel='odometer'>"
      ]
     },
     "execution_count": 95,
     "metadata": {},
     "output_type": "execute_result"
    },
    {
     "data": {
      "image/png": "[encoded data removed]",
      "text/plain": [
       "<Figure size 432x288 with 1 Axes>"
      ]
     },
     "metadata": {
      "needs_background": "light"
     },
     "output_type": "display_data"
    }
   ],
   "source": [
    "lx_df_2010.plot.scatter(x=\"condition\", y=\"odometer\", alpha=0.5)"
   ]
  },
  {
   "cell_type": "code",
   "execution_count": 96,
   "id": "4ae6ed5b",
   "metadata": {},
   "outputs": [
    {
     "data": {
      "text/plain": [
       "<AxesSubplot:xlabel='condition', ylabel='sellingprice'>"
      ]
     },
     "execution_count": 96,
     "metadata": {},
     "output_type": "execute_result"
    },
    {
     "data": {
      "image/png": "[encoded data removed]",
      "text/plain": [
       "<Figure size 432x288 with 1 Axes>"
      ]
     },
     "metadata": {
      "needs_background": "light"
     },
     "output_type": "display_data"
    }
   ],
   "source": [
    "lx_df_2010.plot.scatter(x=\"condition\", y=\"sellingprice\", alpha=0.5)"
   ]
  },
  {
   "cell_type": "code",
   "execution_count": 97,
   "id": "f226c656",
   "metadata": {},
   "outputs": [],
   "source": [
    "import seaborn as sns"
   ]
  },
  {
   "cell_type": "code",
   "execution_count": 130,
   "id": "92e012bf",
   "metadata": {},
   "outputs": [
    {
     "data": {
      "text/plain": [
       "<seaborn.axisgrid.FacetGrid at 0x2241e7e7fd0>"
      ]
     },
     "execution_count": 130,
     "metadata": {},
     "output_type": "execute_result"
    },
    {
     "data": {
      "image/png": "[encoded data removed]",
      "text/plain": [
       "<Figure size 414.25x360 with 1 Axes>"
      ]
     },
     "metadata": {
      "needs_background": "light"
     },
     "output_type": "display_data"
    }
   ],
   "source": [
    "# sns.relplot(\n",
    "#     data=lx_df_2010, kind=\"line\",\n",
    "#     x=\"condition\", y=\"sellingprice\"\n",
    "# )\n",
    "sns.relplot(\n",
    "    data=lx_df_2014, kind=\"scatter\",\n",
    "    x=\"odometer\", y=\"sellingprice\", hue=\"condition\"\n",
    ")"
   ]
  },
  {
   "cell_type": "markdown",
   "id": "a912d0e7",
   "metadata": {},
   "source": [
    "# correlation between year and odometer\n",
    "\n",
    "#1 cor(year,odometer)\n",
    "#1 cor()"
   ]
  },
  {
   "cell_type": "code",
   "execution_count": null,
   "id": "30a6b86b",
   "metadata": {},
   "outputs": [],
   "source": [
    "# put 2010-2015 into new df and plot against 5 different features with odometer and sellingprice, condition, years\n",
    "# set odometer range by using correlation we got from above\n"
   ]
  },
  {
   "cell_type": "code",
   "execution_count": 109,
   "id": "0466de0a",
   "metadata": {},
   "outputs": [
    {
     "data": {
      "text/plain": [
       "<AxesSubplot:xlabel='odometer', ylabel='sellingprice'>"
      ]
     },
     "execution_count": 109,
     "metadata": {},
     "output_type": "execute_result"
    },
    {
     "data": {
      "image/png": "[encoded data removed]",
      "text/plain": [
       "<Figure size 432x288 with 1 Axes>"
      ]
     },
     "metadata": {
      "needs_background": "light"
     },
     "output_type": "display_data"
    }
   ],
   "source": [
    "sns.regplot(x=\"odometer\", y=\"sellingprice\", data=lx_df_2010)"
   ]
  },
  {
   "cell_type": "code",
   "execution_count": 48,
   "id": "c7b1b95c",
   "metadata": {},
   "outputs": [
    {
     "data": {
      "text/html": [
       "<div>\n",
       "<style scoped>\n",
       "    .dataframe tbody tr th:only-of-type {\n",
       "        vertical-align: middle;\n",
       "    }\n",
       "\n",
       "    .dataframe tbody tr th {\n",
       "        vertical-align: top;\n",
       "    }\n",
       "\n",
       "    .dataframe thead th {\n",
       "        text-align: right;\n",
       "    }\n",
       "</style>\n",
       "<table border=\"1\" class=\"dataframe\">\n",
       "  <thead>\n",
       "    <tr style=\"text-align: right;\">\n",
       "      <th></th>\n",
       "      <th>Unnamed: 0</th>\n",
       "      <th>year</th>\n",
       "      <th>make</th>\n",
       "      <th>model</th>\n",
       "      <th>trim</th>\n",
       "      <th>body</th>\n",
       "      <th>transmission</th>\n",
       "      <th>state</th>\n",
       "      <th>condition</th>\n",
       "      <th>odometer</th>\n",
       "      <th>color</th>\n",
       "      <th>interior</th>\n",
       "      <th>sellingprice</th>\n",
       "      <th>saleyear</th>\n",
       "    </tr>\n",
       "  </thead>\n",
       "  <tbody>\n",
       "    <tr>\n",
       "      <th>89663</th>\n",
       "      <td>89663</td>\n",
       "      <td>2010</td>\n",
       "      <td>Kia</td>\n",
       "      <td>Sorento</td>\n",
       "      <td>LX</td>\n",
       "      <td>SUV</td>\n",
       "      <td>automatic</td>\n",
       "      <td>fl</td>\n",
       "      <td>1</td>\n",
       "      <td>1.0</td>\n",
       "      <td>white</td>\n",
       "      <td>gray</td>\n",
       "      <td>3200</td>\n",
       "      <td>2015.0</td>\n",
       "    </tr>\n",
       "    <tr>\n",
       "      <th>257964</th>\n",
       "      <td>257964</td>\n",
       "      <td>2010</td>\n",
       "      <td>Kia</td>\n",
       "      <td>Sorento</td>\n",
       "      <td>LX</td>\n",
       "      <td>SUV</td>\n",
       "      <td>automatic</td>\n",
       "      <td>fl</td>\n",
       "      <td>4.2</td>\n",
       "      <td>38112.0</td>\n",
       "      <td>red</td>\n",
       "      <td>tan</td>\n",
       "      <td>14000</td>\n",
       "      <td>2015.0</td>\n",
       "    </tr>\n",
       "    <tr>\n",
       "      <th>54844</th>\n",
       "      <td>54844</td>\n",
       "      <td>2010</td>\n",
       "      <td>Kia</td>\n",
       "      <td>Sorento</td>\n",
       "      <td>LX</td>\n",
       "      <td>SUV</td>\n",
       "      <td>automatic</td>\n",
       "      <td>fl</td>\n",
       "      <td>4.5</td>\n",
       "      <td>38850.0</td>\n",
       "      <td>gray</td>\n",
       "      <td>black</td>\n",
       "      <td>13500</td>\n",
       "      <td>2014.0</td>\n",
       "    </tr>\n",
       "    <tr>\n",
       "      <th>517735</th>\n",
       "      <td>517735</td>\n",
       "      <td>2010</td>\n",
       "      <td>Kia</td>\n",
       "      <td>Sorento</td>\n",
       "      <td>LX</td>\n",
       "      <td>suv</td>\n",
       "      <td>automatic</td>\n",
       "      <td>oh</td>\n",
       "      <td>5</td>\n",
       "      <td>39971.0</td>\n",
       "      <td>white</td>\n",
       "      <td>black</td>\n",
       "      <td>14300</td>\n",
       "      <td>2015.0</td>\n",
       "    </tr>\n",
       "    <tr>\n",
       "      <th>387025</th>\n",
       "      <td>387025</td>\n",
       "      <td>2010</td>\n",
       "      <td>Kia</td>\n",
       "      <td>Sorento</td>\n",
       "      <td>LX</td>\n",
       "      <td>SUV</td>\n",
       "      <td>automatic</td>\n",
       "      <td>fl</td>\n",
       "      <td>4.1</td>\n",
       "      <td>40715.0</td>\n",
       "      <td>black</td>\n",
       "      <td>gray</td>\n",
       "      <td>13600</td>\n",
       "      <td>2015.0</td>\n",
       "    </tr>\n",
       "    <tr>\n",
       "      <th>...</th>\n",
       "      <td>...</td>\n",
       "      <td>...</td>\n",
       "      <td>...</td>\n",
       "      <td>...</td>\n",
       "      <td>...</td>\n",
       "      <td>...</td>\n",
       "      <td>...</td>\n",
       "      <td>...</td>\n",
       "      <td>...</td>\n",
       "      <td>...</td>\n",
       "      <td>...</td>\n",
       "      <td>...</td>\n",
       "      <td>...</td>\n",
       "      <td>...</td>\n",
       "    </tr>\n",
       "    <tr>\n",
       "      <th>324456</th>\n",
       "      <td>324456</td>\n",
       "      <td>2010</td>\n",
       "      <td>Kia</td>\n",
       "      <td>Sorento</td>\n",
       "      <td>LX</td>\n",
       "      <td>SUV</td>\n",
       "      <td>automatic</td>\n",
       "      <td>fl</td>\n",
       "      <td>4</td>\n",
       "      <td>179707.0</td>\n",
       "      <td>white</td>\n",
       "      <td>beige</td>\n",
       "      <td>10600</td>\n",
       "      <td>2015.0</td>\n",
       "    </tr>\n",
       "    <tr>\n",
       "      <th>64111</th>\n",
       "      <td>64111</td>\n",
       "      <td>2010</td>\n",
       "      <td>Kia</td>\n",
       "      <td>Sorento</td>\n",
       "      <td>LX</td>\n",
       "      <td>SUV</td>\n",
       "      <td>automatic</td>\n",
       "      <td>fl</td>\n",
       "      <td>2.6</td>\n",
       "      <td>183911.0</td>\n",
       "      <td>white</td>\n",
       "      <td>beige</td>\n",
       "      <td>9300</td>\n",
       "      <td>2014.0</td>\n",
       "    </tr>\n",
       "    <tr>\n",
       "      <th>250952</th>\n",
       "      <td>250952</td>\n",
       "      <td>2010</td>\n",
       "      <td>Kia</td>\n",
       "      <td>Sorento</td>\n",
       "      <td>LX</td>\n",
       "      <td>SUV</td>\n",
       "      <td>automatic</td>\n",
       "      <td>fl</td>\n",
       "      <td>2</td>\n",
       "      <td>198848.0</td>\n",
       "      <td>black</td>\n",
       "      <td>black</td>\n",
       "      <td>8990</td>\n",
       "      <td>2015.0</td>\n",
       "    </tr>\n",
       "    <tr>\n",
       "      <th>225616</th>\n",
       "      <td>225616</td>\n",
       "      <td>2010</td>\n",
       "      <td>Kia</td>\n",
       "      <td>Sorento</td>\n",
       "      <td>LX</td>\n",
       "      <td>SUV</td>\n",
       "      <td>automatic</td>\n",
       "      <td>fl</td>\n",
       "      <td>2.4</td>\n",
       "      <td>230744.0</td>\n",
       "      <td>black</td>\n",
       "      <td>black</td>\n",
       "      <td>9000</td>\n",
       "      <td>2015.0</td>\n",
       "    </tr>\n",
       "    <tr>\n",
       "      <th>355712</th>\n",
       "      <td>355712</td>\n",
       "      <td>2010</td>\n",
       "      <td>Kia</td>\n",
       "      <td>Sorento</td>\n",
       "      <td>LX</td>\n",
       "      <td>SUV</td>\n",
       "      <td>automatic</td>\n",
       "      <td>fl</td>\n",
       "      <td>3.2</td>\n",
       "      <td>240380.0</td>\n",
       "      <td>blue</td>\n",
       "      <td>black</td>\n",
       "      <td>8600</td>\n",
       "      <td>2015.0</td>\n",
       "    </tr>\n",
       "  </tbody>\n",
       "</table>\n",
       "<p>178 rows × 14 columns</p>\n",
       "</div>"
      ],
      "text/plain": [
       "        Unnamed: 0  year make    model trim body transmission state condition  \\\n",
       "89663        89663  2010  Kia  Sorento   LX  SUV    automatic    fl         1   \n",
       "257964      257964  2010  Kia  Sorento   LX  SUV    automatic    fl       4.2   \n",
       "54844        54844  2010  Kia  Sorento   LX  SUV    automatic    fl       4.5   \n",
       "517735      517735  2010  Kia  Sorento   LX  suv    automatic    oh         5   \n",
       "387025      387025  2010  Kia  Sorento   LX  SUV    automatic    fl       4.1   \n",
       "...            ...   ...  ...      ...  ...  ...          ...   ...       ...   \n",
       "324456      324456  2010  Kia  Sorento   LX  SUV    automatic    fl         4   \n",
       "64111        64111  2010  Kia  Sorento   LX  SUV    automatic    fl       2.6   \n",
       "250952      250952  2010  Kia  Sorento   LX  SUV    automatic    fl         2   \n",
       "225616      225616  2010  Kia  Sorento   LX  SUV    automatic    fl       2.4   \n",
       "355712      355712  2010  Kia  Sorento   LX  SUV    automatic    fl       3.2   \n",
       "\n",
       "        odometer  color interior  sellingprice  saleyear  \n",
       "89663        1.0  white     gray          3200    2015.0  \n",
       "257964   38112.0    red      tan         14000    2015.0  \n",
       "54844    38850.0   gray    black         13500    2014.0  \n",
       "517735   39971.0  white    black         14300    2015.0  \n",
       "387025   40715.0  black     gray         13600    2015.0  \n",
       "...          ...    ...      ...           ...       ...  \n",
       "324456  179707.0  white    beige         10600    2015.0  \n",
       "64111   183911.0  white    beige          9300    2014.0  \n",
       "250952  198848.0  black    black          8990    2015.0  \n",
       "225616  230744.0  black    black          9000    2015.0  \n",
       "355712  240380.0   blue    black          8600    2015.0  \n",
       "\n",
       "[178 rows x 14 columns]"
      ]
     },
     "execution_count": 48,
     "metadata": {},
     "output_type": "execute_result"
    }
   ],
   "source": [
    "lx_df_2010.sort_values(by=['odometer'])"
   ]
  },
  {
   "cell_type": "code",
   "execution_count": null,
   "id": "c172a615",
   "metadata": {},
   "outputs": [],
   "source": []
  }
 ],
 "metadata": {
  "kernelspec": {
   "display_name": "Python 3 (ipykernel)",
   "language": "python",
   "name": "python3"
  },
  "language_info": {
   "codemirror_mode": {
    "name": "ipython",
    "version": 3
   },
   "file_extension": ".py",
   "mimetype": "text/x-python",
   "name": "python",
   "nbconvert_exporter": "python",
   "pygments_lexer": "ipython3",
   "version": "3.9.12"
  }
 },
 "nbformat": 4,
 "nbformat_minor": 5
}
